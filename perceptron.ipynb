{
 "cells": [
  {
   "cell_type": "markdown",
   "source": [
    "# Perceptron\n",
    "\n",
    "Implements a Multilayer Perceptron for fitting 1D data."
   ],
   "metadata": {
    "collapsed": false
   }
  },
  {
   "cell_type": "markdown",
   "source": [
    "## Imports libraries"
   ],
   "metadata": {
    "collapsed": false
   }
  },
  {
   "cell_type": "code",
   "execution_count": 6,
   "outputs": [],
   "source": [
    "import pandas as pd\n",
    "import numpy as np\n",
    "from matplotlib import pyplot as plt\n",
    "import argparse"
   ],
   "metadata": {
    "collapsed": false,
    "ExecuteTime": {
     "end_time": "2023-07-06T18:36:24.814453113Z",
     "start_time": "2023-07-06T18:36:24.790276322Z"
    }
   }
  },
  {
   "cell_type": "markdown",
   "source": [
    "## Creates perceptron class with all computations"
   ],
   "metadata": {
    "collapsed": false
   }
  },
  {
   "cell_type": "code",
   "execution_count": 7,
   "outputs": [],
   "source": [
    "class Perceptron(object):\n",
    "    \"\"\"\n",
    "    A perceptron with online updating.\n",
    "    \"\"\"\n",
    "\n",
    "    def __init__(self):\n",
    "        self.W = None  # type: np.ndarray\n",
    "        self.id2label = None  # type: dict\n",
    "        self.label2id = None  # type: dict\n",
    "\n",
    "    def fit(self, x_train, y_train, lr=0.01, epochs=100):\n",
    "        \"\"\"\n",
    "        Fits the perceptron to input data.\n",
    "\n",
    "        :param x_train: the input variables for the problem.\n",
    "        :param y_train: the actual label for input data.\n",
    "        :param lr: optional: learning rate. Defaults to 0.01.\n",
    "        :param epochs: optional: how many steps to update the weights. Defaults to 100.\n",
    "        \"\"\"\n",
    "        if self.W is None:\n",
    "            self.W = np.random.random(x_train.shape[1] + 1).astype(float)\n",
    "        X = np.hstack((np.ones((x_train.shape[0], 1)), x_train)).astype(float)\n",
    "        Y, self.label2id, self.id2label = Perceptron.__string_to_int__(y_train)\n",
    "\n",
    "        iteration = 0\n",
    "\n",
    "        while iteration < epochs:\n",
    "            for i, x in enumerate(X):\n",
    "                h = Perceptron.__predict__(x, self.W)\n",
    "                j = Perceptron.__cost_function__(1, h, Y[i])\n",
    "                if j > 0:\n",
    "                    W = Perceptron.__update_theta__(lr, self.W, h, x, Y[i])\n",
    "            iteration += 1\n",
    "\n",
    "        return self\n",
    "\n",
    "    def predict(self, x):\n",
    "        \"\"\"\n",
    "        Predicts values for a set of x inputs.\n",
    "\n",
    "        :param x: input data.\n",
    "        :return: predictions for x.\n",
    "        \"\"\"\n",
    "        x = np.vstack((np.ones(x.shape[0]), x)).T\n",
    "        return Perceptron.__predict__(x, self.W)\n",
    "\n",
    "    @staticmethod\n",
    "    def __predict__(X, W):\n",
    "        return np.sign(np.dot(X, W))\n",
    "\n",
    "    @staticmethod\n",
    "    def __cost_function__(N, H, Y):\n",
    "        return (1.0 / (2.0 * float(N))) * np.sum(np.power(H - Y, 2))\n",
    "\n",
    "    @staticmethod\n",
    "    def __update_theta__(alpha, W, h, x, y):\n",
    "        for i, w in enumerate(W):\n",
    "            W[i] = w - (alpha * (h - y) * x[i])\n",
    "        return W\n",
    "\n",
    "    @staticmethod\n",
    "    def __activation_function__(x):\n",
    "        return np.sign(x)\n",
    "\n",
    "    @staticmethod\n",
    "    def __string_to_int__(Y: np.ndarray):\n",
    "        values = np.unique(Y)\n",
    "        id2label = {i: k for i, k in enumerate(values)}\n",
    "        label2id = {k: i for i, k in id2label.items()}\n",
    "\n",
    "        return Y, label2id, id2label"
   ],
   "metadata": {
    "collapsed": false,
    "ExecuteTime": {
     "end_time": "2023-07-06T18:36:24.838830735Z",
     "start_time": "2023-07-06T18:36:24.792873523Z"
    }
   }
  },
  {
   "cell_type": "markdown",
   "source": [
    "## Creates function for visualizing projections"
   ],
   "metadata": {
    "collapsed": false
   }
  },
  {
   "cell_type": "code",
   "execution_count": 8,
   "outputs": [],
   "source": [
    "def plot_model(fig, ax, title, model, x, y):\n",
    "    x_axis = np.linspace(np.min(x), np.max(y) + 1)\n",
    "    y_axis = model.predict(x_axis)\n",
    "\n",
    "    ax.plot(x_axis, y_axis, label='h(x)', c='#F2D0A4', zorder=0)\n",
    "    ax.scatter(x, y, label='y', c='#C03221', zorder=1)\n",
    "    ax.set_title(title)\n",
    "    fig.legend()"
   ],
   "metadata": {
    "collapsed": false,
    "ExecuteTime": {
     "end_time": "2023-07-06T18:36:24.839087994Z",
     "start_time": "2023-07-06T18:36:24.837216347Z"
    }
   }
  },
  {
   "cell_type": "markdown",
   "source": [
    "## Creates function for training and projection"
   ],
   "metadata": {
    "collapsed": false
   }
  },
  {
   "cell_type": "code",
   "execution_count": 9,
   "outputs": [],
   "source": [
    "def static_projection(x_train, y_train):\n",
    "    fig, ax = plt.subplots(nrows=2)\n",
    "    ax = np.ravel(ax)\n",
    "\n",
    "    epochs = 2\n",
    "    model = Perceptron()\n",
    "    model = model.fit(x_train, y_train, lr=0.01, epochs=epochs)\n",
    "    plot_model(\n",
    "        fig, ax[0],\n",
    "        f'model trained for {epochs} epochs\\nModel weights: {np.around(model.W, 2)}', model, x_train, y_train\n",
    "    )\n",
    "\n",
    "    epochs = 98\n",
    "    model = model.fit(x_train, y_train, lr=0.01, epochs=epochs)\n",
    "    plot_model(\n",
    "        fig, ax[1],\n",
    "        f'model trained for {epochs} more epochs\\nModel weights: {np.around(model.W, 2)}', model, x_train, y_train\n",
    "    )\n",
    "    plt.tight_layout()\n",
    "    plt.show()"
   ],
   "metadata": {
    "collapsed": false,
    "ExecuteTime": {
     "end_time": "2023-07-06T18:36:24.839206905Z",
     "start_time": "2023-07-06T18:36:24.837471532Z"
    }
   }
  },
  {
   "cell_type": "markdown",
   "source": [
    "## Creates dataset and calls function"
   ],
   "metadata": {
    "collapsed": false
   }
  },
  {
   "cell_type": "code",
   "execution_count": 10,
   "outputs": [
    {
     "data": {
      "text/plain": "<Figure size 640x480 with 2 Axes>",
      "image/png": "[encoded data removed]"
     },
     "metadata": {},
     "output_type": "display_data"
    }
   ],
   "source": [
    "_x_train = np.array([1, 2, 0, -1]).reshape(4, 1)\n",
    "_y_train = np.array([-1, -1, 1, 1]).reshape(4, 1)\n",
    "static_projection(_x_train, _y_train)"
   ],
   "metadata": {
    "collapsed": false,
    "ExecuteTime": {
     "end_time": "2023-07-06T18:36:25.092569011Z",
     "start_time": "2023-07-06T18:36:24.837601810Z"
    }
   }
  }
 ],
 "metadata": {
  "kernelspec": {
   "display_name": "Python 3",
   "language": "python",
   "name": "python3"
  },
  "language_info": {
   "codemirror_mode": {
    "name": "ipython",
    "version": 2
   },
   "file_extension": ".py",
   "mimetype": "text/x-python",
   "name": "python",
   "nbconvert_exporter": "python",
   "pygments_lexer": "ipython2",
   "version": "2.7.6"
  }
 },
 "nbformat": 4,
 "nbformat_minor": 0
}
