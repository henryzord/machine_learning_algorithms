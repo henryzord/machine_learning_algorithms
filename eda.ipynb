{
 "cells": [
  {
   "cell_type": "markdown",
   "source": [
    "# Estimation of Distribution Algorithms\n",
    "\n",
    "Implements an Estimation of Distribution Algorithms for fitting 1D data."
   ],
   "metadata": {
    "collapsed": false
   }
  },
  {
   "cell_type": "markdown",
   "source": [
    "## Imports libraries"
   ],
   "metadata": {
    "collapsed": false
   }
  },
  {
   "cell_type": "code",
   "execution_count": 2,
   "outputs": [],
   "source": [
    "import numpy as np\n",
    "from sklearn.metrics import mean_squared_error as mse\n",
    "from matplotlib import pyplot as plt"
   ],
   "metadata": {
    "collapsed": false,
    "ExecuteTime": {
     "end_time": "2023-07-06T18:41:48.928274275Z",
     "start_time": "2023-07-06T18:41:48.881140065Z"
    }
   }
  },
  {
   "cell_type": "markdown",
   "source": [
    "## Creates Individual class with all computations"
   ],
   "metadata": {
    "collapsed": false
   }
  },
  {
   "cell_type": "code",
   "execution_count": 3,
   "outputs": [],
   "source": [
    "class Individual(object):\n",
    "    def __init__(self, weights, func, X, Y):\n",
    "        \"\"\"\n",
    "        Instantiates a new Individual.\n",
    "\n",
    "        :param weights: Weights of the individual.\n",
    "        :param func: Fitness function.\n",
    "        \"\"\"\n",
    "        self.weights = np.array(weights, dtype=float).reshape(1, len(weights))\n",
    "        self.func = func\n",
    "        self.fitness = self.__fitness__(X, Y)\n",
    "\n",
    "    def predict(self, x):\n",
    "        return np.ravel(np.sign(np.dot(self.weights, x.T)))\n",
    "\n",
    "    def __fitness__(self, X, Y):\n",
    "        return self.func(self, X, Y)\n",
    "\n",
    "    def __str__(self):\n",
    "        return f'weights: {self.weights}'\n",
    "\n",
    "    def __repr__(self):\n",
    "        return f'weights: {self.weights}'"
   ],
   "metadata": {
    "collapsed": false,
    "ExecuteTime": {
     "end_time": "2023-07-06T18:41:48.947470054Z",
     "start_time": "2023-07-06T18:41:48.891237399Z"
    }
   }
  },
  {
   "cell_type": "markdown",
   "source": [
    "## Creates EDA class with all computations"
   ],
   "metadata": {
    "collapsed": false
   }
  },
  {
   "cell_type": "code",
   "execution_count": 4,
   "outputs": [],
   "source": [
    "class EDA(object):\n",
    "\n",
    "    def __init__(self, selection_rate=0.5, replacement_rate=0.5, seed=None):\n",
    "        \"\"\"\n",
    "        Builds an instance of an Estimation of Distribution Algorithm for classification.\n",
    "\n",
    "        :param selection_rate: The rate to select the fittest individuals for any given population.\n",
    "        :param replacement_rate: The rate to replace older individuals with new ones.\n",
    "        :param seed: Optional - seed for the numpy.random module.\n",
    "        \"\"\"\n",
    "        np.random.seed(seed)\n",
    "\n",
    "        self.means = None  # type: list\n",
    "        self.stds = None  # type: list\n",
    "        self.selection_rate = selection_rate\n",
    "        self.replacement_rate = replacement_rate\n",
    "\n",
    "        self.id2label = None  # type: dict\n",
    "        self.label2id = None  # type: dict\n",
    "\n",
    "        self.best_individual = None  # type: Individual\n",
    "\n",
    "    def fit(self, x_train, y_train, func, pop_size=100, gens=100):\n",
    "        \"\"\"\n",
    "        Fits data.\n",
    "\n",
    "        :param x_train: the input variables for the problem.\n",
    "        :param y_train: the actual label for input data.\n",
    "        :param func: A pointer to a fitness function, defined outside the scope of this class.\n",
    "        :param pop_size: Optional - The population size. Affects memory consumption. Defaults to 100.\n",
    "        :param gens: Optional - Number of iterations. Affects time spent training. Defaults to 100.\n",
    "        :return: returns itself\n",
    "        \"\"\"\n",
    "        # arrays for storing the means and standard deviations of normal distributions - one for each variable\n",
    "        # adds 1 for the free parameter w0, e.g. w0 + (w1 * x1)\n",
    "        if self.means is None or self.stds is None:\n",
    "            self.means = np.ones(x_train.shape[1] + 1, dtype=float)\n",
    "            self.stds = np.ones(x_train.shape[1] + 1, dtype=float)\n",
    "\n",
    "        # adds 1 to input data to multiply to free parameter\n",
    "        X = np.hstack((np.ones((x_train.shape[0], 1)), x_train)).astype(float)\n",
    "        Y, self.label2id, self.id2label = EDA.__string_to_int__(y_train)\n",
    "\n",
    "        n_fittest = int(np.ceil(pop_size * self.selection_rate))\n",
    "        n_to_replace = int(np.ceil(pop_size * (1 - self.replacement_rate)))\n",
    "        indices_to_replace = list(range(n_to_replace, pop_size))\n",
    "\n",
    "        population, fitness = self.__sample__(pop_size, func, X, Y)\n",
    "\n",
    "        gen = 0\n",
    "        while gen < gens:\n",
    "            # sorts population by ascending order based on the fitness\n",
    "            population, fitness = self.__sorts_by_fitness__(population, fitness)\n",
    "\n",
    "            # fittest individuals update means and stds\n",
    "            fittest = population[:n_fittest]\n",
    "            self.means, self.stds = self.__update__(fittest)\n",
    "\n",
    "            # least fit individuals are replaced\n",
    "            new_pop, new_fitness = self.__sample__(n_to_replace, func, X, Y)\n",
    "            for i, k in enumerate(indices_to_replace):\n",
    "                population[k] = new_pop[i]\n",
    "                fitness[k] = new_fitness[i]\n",
    "            gen += 1\n",
    "\n",
    "        self.best_individual = population[np.argmin(fitness)]\n",
    "\n",
    "        return self\n",
    "\n",
    "    def predict(self, x):\n",
    "        new_x = np.vstack((np.ones(x.shape[0]), x)).T\n",
    "        return self.best_individual.predict(new_x)\n",
    "\n",
    "    @property\n",
    "    def W(self):\n",
    "        return self.best_individual.weights\n",
    "\n",
    "    def __update__(self, fittest: list):\n",
    "        \"\"\"\n",
    "        Updates normal distributions means and standard deviations based on fittest population.\n",
    "\n",
    "        :param fittest: Fittest population.\n",
    "        \"\"\"\n",
    "        c_means = [[] for i in range(len(self.means))]\n",
    "        for ind in fittest:\n",
    "            for i in range(ind.weights.shape[1]):\n",
    "                c_means[i] += [ind.weights[0, i]]\n",
    "\n",
    "        for i in range(len(c_means)):\n",
    "            self.means[i] = np.mean(c_means[i])\n",
    "            self.stds[i] = np.std(c_means[i])\n",
    "\n",
    "        return self.means, self.stds\n",
    "\n",
    "    def __sample__(self, pop_size, func, X, Y):\n",
    "        \"\"\"\n",
    "        Generates a sample population based on the probability array.\n",
    "\n",
    "        :param pop_size: The size of the population to be generated.\n",
    "        :return: A tuple composed of the newly sampled population and its fitness.\n",
    "        \"\"\"\n",
    "        population = []\n",
    "        fitness = []\n",
    "        for i in range(pop_size):\n",
    "            weights = []\n",
    "            for j in range(len(self.means)):\n",
    "                weights += [np.random.normal(loc=self.means[j], scale=self.stds[j])]\n",
    "            ind = Individual(weights, func, X, Y)\n",
    "            local_fit = ind.fitness\n",
    "\n",
    "            population += [ind]\n",
    "            fitness += [local_fit]\n",
    "\n",
    "        return population, fitness\n",
    "\n",
    "    @staticmethod\n",
    "    def __sorts_by_fitness__(population, fitness):\n",
    "        argsorted = np.argsort(fitness)\n",
    "        new_pop = []\n",
    "        new_fitness = []\n",
    "        for index in argsorted:\n",
    "            new_pop += [population[index]]\n",
    "            new_fitness += [fitness[index]]\n",
    "\n",
    "        return new_pop, new_fitness\n",
    "\n",
    "    @staticmethod\n",
    "    def __string_to_int__(Y: np.ndarray):\n",
    "        values = np.unique(Y)\n",
    "        id2label = {i: k for i, k in enumerate(values)}\n",
    "        label2id = {k: i for i, k in id2label.items()}\n",
    "\n",
    "        return Y, label2id, id2label"
   ],
   "metadata": {
    "collapsed": false,
    "ExecuteTime": {
     "end_time": "2023-07-06T18:41:48.948164541Z",
     "start_time": "2023-07-06T18:41:48.904289420Z"
    }
   }
  },
  {
   "cell_type": "markdown",
   "source": [
    "## Creates fitness function\n",
    "\n",
    "Used to evaluate performance of individuals in the task at hand."
   ],
   "metadata": {
    "collapsed": false
   }
  },
  {
   "cell_type": "code",
   "execution_count": 5,
   "outputs": [],
   "source": [
    "def fitness_function(ind: Individual, x_train, y_train):\n",
    "    \"\"\"\n",
    "    Computes fitness function of an individual. The closer to zero the value, the better\n",
    "\n",
    "    :param ind: An individual.\n",
    "    :param x_train: the input variables for the problem.\n",
    "    :param y_train: the actual label for input data.\n",
    "    :return: The fitness of the individual\n",
    "    \"\"\"\n",
    "    preds = []\n",
    "    for x in x_train:\n",
    "        preds += [ind.predict(x)]\n",
    "\n",
    "    return mse(preds, y_train)"
   ],
   "metadata": {
    "collapsed": false,
    "ExecuteTime": {
     "end_time": "2023-07-06T18:41:48.948534593Z",
     "start_time": "2023-07-06T18:41:48.910725157Z"
    }
   }
  },
  {
   "cell_type": "markdown",
   "source": [
    "## Creates function for visualizing projections"
   ],
   "metadata": {
    "collapsed": false
   }
  },
  {
   "cell_type": "code",
   "execution_count": 6,
   "outputs": [],
   "source": [
    "def plot_model(fig, ax, title, model, x, y):\n",
    "    x_axis = np.linspace(np.min(x), np.max(y) + 1)\n",
    "    y_axis = model.predict(x_axis)\n",
    "\n",
    "    ax.plot(x_axis, y_axis, label='h(x)', c='#7DCE82', zorder=0)\n",
    "    ax.scatter(x, y, label='y', c='#3CDBD3', zorder=1)\n",
    "    ax.set_title(title)\n",
    "    fig.legend()"
   ],
   "metadata": {
    "collapsed": false,
    "ExecuteTime": {
     "end_time": "2023-07-06T18:41:48.948658228Z",
     "start_time": "2023-07-06T18:41:48.917687919Z"
    }
   }
  },
  {
   "cell_type": "markdown",
   "source": [
    "## Creates function for training and projection"
   ],
   "metadata": {
    "collapsed": false
   }
  },
  {
   "cell_type": "code",
   "execution_count": 7,
   "outputs": [],
   "source": [
    "def static_projection(x_train, y_train):\n",
    "    fig, ax = plt.subplots(nrows=2)\n",
    "    ax = np.ravel(ax)\n",
    "\n",
    "    pop_size = 100\n",
    "    selection_rate = 0.6\n",
    "    replacement_rate = 0.4\n",
    "\n",
    "    gens = 2\n",
    "    model = EDA(selection_rate, replacement_rate)\n",
    "    model = model.fit(_x_train, _y_train, func=fitness_function, pop_size=pop_size, gens=gens)\n",
    "    plot_model(\n",
    "        fig, ax[0],\n",
    "        f'model trained for {gens} generations\\nModel weights: {np.around(model.W, 2)}', model, x_train, y_train\n",
    "    )\n",
    "\n",
    "    gens = 98\n",
    "    model = model.fit(_x_train, _y_train, func=fitness_function, pop_size=pop_size, gens=gens)\n",
    "    plot_model(\n",
    "        fig, ax[1],\n",
    "        f'model trained for {gens} more generations\\nModel weights: {np.around(model.W, 2)}', model, x_train, y_train\n",
    "    )\n",
    "    plt.tight_layout()\n",
    "    plt.show()"
   ],
   "metadata": {
    "collapsed": false,
    "ExecuteTime": {
     "end_time": "2023-07-06T18:41:48.965289171Z",
     "start_time": "2023-07-06T18:41:48.964942829Z"
    }
   }
  },
  {
   "cell_type": "markdown",
   "source": [
    "## Creates dataset and calls function"
   ],
   "metadata": {
    "collapsed": false
   }
  },
  {
   "cell_type": "code",
   "execution_count": 8,
   "outputs": [
    {
     "data": {
      "text/plain": "<Figure size 640x480 with 2 Axes>",
      "image/png": "[encoded data removed]"
     },
     "metadata": {},
     "output_type": "display_data"
    }
   ],
   "source": [
    "_x_train = np.array([1, 2, 0, -1]).reshape(4, 1)\n",
    "_y_train = np.array([-1, -1, 1, 1]).reshape(4, 1)\n",
    "\n",
    "static_projection(_x_train, _y_train)"
   ],
   "metadata": {
    "collapsed": false,
    "ExecuteTime": {
     "end_time": "2023-07-06T18:41:50.006358133Z",
     "start_time": "2023-07-06T18:41:48.965098754Z"
    }
   }
  }
 ],
 "metadata": {
  "kernelspec": {
   "display_name": "Python 3",
   "language": "python",
   "name": "python3"
  },
  "language_info": {
   "codemirror_mode": {
    "name": "ipython",
    "version": 2
   },
   "file_extension": ".py",
   "mimetype": "text/x-python",
   "name": "python",
   "nbconvert_exporter": "python",
   "pygments_lexer": "ipython2",
   "version": "2.7.6"
  }
 },
 "nbformat": 4,
 "nbformat_minor": 0
}
